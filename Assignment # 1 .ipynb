{
 "cells": [
  {
   "cell_type": "code",
   "execution_count": 6,
   "metadata": {},
   "outputs": [
    {
     "name": "stdout",
     "output_type": "stream",
     "text": [
      "Twinkle, twinkle, little star,\n",
      "     How I wonder what you are!\n",
      "         Up above the world so high,\n",
      "         Like a diamond in the sky.\n",
      "Twinkle, twinkle, little star,\n",
      "     How I wonder what you are!\n"
     ]
    }
   ],
   "source": [
    "# Python Course by Jawan Pakistan - (Question 01 - Assignment - 03) | Shahzain Ahmed\n",
    "# Q:1 Write a Python program to print the following string in a specific format (see the output).\n",
    "# Twinkle, twinkle, little star,\n",
    "#        How I wonder what you are!\n",
    "#            Up above the world so high,\n",
    "#            Like a diamond in the sky.\n",
    "# Twinkle, twinkle, little star,\n",
    "#        How I wonder what you are\n",
    "\n",
    "print(\"Twinkle, twinkle, little star,\")\n",
    "print(\"    \" , \"How I wonder what you are!\")\n",
    "print(\"        \" , \"Up above the world so high,\")\n",
    "print(\"        \" , \"Like a diamond in the sky.\")\n",
    "print(\"Twinkle, twinkle, little star,\")\n",
    "print(\"    \" , \"How I wonder what you are!\")"
   ]
  },
  {
   "cell_type": "code",
   "execution_count": 13,
   "metadata": {},
   "outputs": [
    {
     "name": "stdout",
     "output_type": "stream",
     "text": [
      "My Python version is: 3.7.4\n"
     ]
    }
   ],
   "source": [
    "# Python Course by Jawan Pakistan - (Question 02 - Assignment - 03) | Shahzain Ahmed\n",
    "# Q:2 Write a Python program to get the Python version you are using.\n",
    "from platform import python_version\n",
    "print(\"My Python version is:\", python_version())"
   ]
  },
  {
   "cell_type": "code",
   "execution_count": 32,
   "metadata": {},
   "outputs": [
    {
     "name": "stdout",
     "output_type": "stream",
     "text": [
      "The Current Date and Time is: \n",
      "2021-10-23 22:36:30\n"
     ]
    }
   ],
   "source": [
    "# Python Course by Jawan Pakistan - (Question 03 - Assignment - 03) | Shahzain Ahmed\n",
    "# Q:3 Write a Python program to display the current date and time.\n",
    "import datetime\n",
    "now = datetime.datetime.now()\n",
    "print (\"The Current Date and Time is: \")\n",
    "print (now.strftime(\"%Y-%m-%d %H:%M:%S\"))"
   ]
  },
  {
   "cell_type": "code",
   "execution_count": 21,
   "metadata": {},
   "outputs": [
    {
     "name": "stdout",
     "output_type": "stream",
     "text": [
      "Please enter the radius of the circle: 3.74\n",
      "The area of the circle with radius 3.74 is: 43.92106400000001\n"
     ]
    }
   ],
   "source": [
    "# Python Course by Jawan Pakistan - (Question 04 - Assignment - 03) | Shahzain Ahmed\n",
    "# Q:4 Write a Python program which accepts the radius of a circle from the user and compute the area.\n",
    "pi = 3.14\n",
    "r = float(input (\"Please enter the radius of the circle: \"))\n",
    "print (\"The area of the circle with radius \" + str(r) + \" is: \" + str(pi * r**2))"
   ]
  },
  {
   "cell_type": "code",
   "execution_count": 31,
   "metadata": {},
   "outputs": [
    {
     "name": "stdout",
     "output_type": "stream",
     "text": [
      "Enter your First Name: Shahzain\n",
      "Enter your Last Name: Ahmed\n",
      "Original Name: Shahzain Ahmed\n",
      "Reversed Name: Ahmed Shahzain\n"
     ]
    }
   ],
   "source": [
    "# Python Course by Jawan Pakistan - (Question 05 - Assignment - 03) | Shahzain Ahmed\n",
    "# Q:5 Write a Python program which accepts the user's first and last name and print them in reverse order with a space between them.\n",
    "firstName = input(\"Enter your First Name: \")\n",
    "lastName = input(\"Enter your Last Name: \")\n",
    "print(\"Original Name: \" + firstName + \" \" + lastName)\n",
    "print(\"Reversed Name: \" + lastName + \" \" + firstName)"
   ]
  },
  {
   "cell_type": "code",
   "execution_count": 43,
   "metadata": {},
   "outputs": [
    {
     "name": "stdout",
     "output_type": "stream",
     "text": [
      "Enter the first number: 80\n",
      "Enter the second number: 6\n",
      "Addition of both of these inputted numbers is:  86\n"
     ]
    }
   ],
   "source": [
    "# Python Course by Jawan Pakistan - (Question 06 - Assignment - 03) | Shahzain Ahmed\n",
    "# Q:6 Write a python program which takes two inputs from user and print them addition.\n",
    "num1 = int(input(\"Enter the first number: \"))\n",
    "num2 = int(input(\"Enter the second number: \"))\n",
    "print(\"Addition of both of these inputted numbers is: \" , num1+num2)\n"
   ]
  },
  {
  